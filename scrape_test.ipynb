{
 "metadata": {
  "language_info": {
   "codemirror_mode": {
    "name": "ipython",
    "version": 3
   },
   "file_extension": ".py",
   "mimetype": "text/x-python",
   "name": "python",
   "nbconvert_exporter": "python",
   "pygments_lexer": "ipython3",
   "version": "3.7.6-final"
  },
  "orig_nbformat": 2,
  "kernelspec": {
   "name": "python3",
   "display_name": "Python 3",
   "language": "python"
  }
 },
 "nbformat": 4,
 "nbformat_minor": 2,
 "cells": [
  {
   "cell_type": "code",
   "execution_count": 6,
   "metadata": {},
   "outputs": [
    {
     "output_type": "stream",
     "name": "stdout",
     "text": [
      "Today, ministers, MLAs of Congress & DMK, MPs and other party leaders met and discussed the strategy to be adoptedâ¦ https://t.co/Jsj47xsz39 — ANI (@ANI) 1613919164000\n",
      "\n",
      "PUDUCHERRY: The resignation by Congress MLA K Lakshminarayanan and DMK legislator Venkatesan further reduced the strength of the ruling alliance to 11, while the opposition has 14 MLAs in the 33-member assembly, which has seven vacancies.Lakshminarayanan and Venkatesan submitted their resignation letters separately to Assembly Speaker V P Sivakolundhu at his residence here, the both said.Speaking to reporters, Lakshminarayanan said, \"this government led by Narayanasamy has lost majority.\"He said he has also resigned from the party membership.Later, Venkatesan told the media that he had quit the post of MLA only and continued to be in the DMK.\"... I was not able to meet the needs of the people in my constituency since there was no allocation of funds under the MLA Local Area Development fund,\" he said.Four Congress MLAs--including ex-ministers A Namassivayam (now in BJP) and Malladi Krishna Rao had quit, while another party legislator was earlier disqualified.Narayanasamy's confidante A John Kumar had resigned this week.Telangana Governor Tamilisai Soundararajan , handed over additional charge of Puducherry , had on Thursday directed Narayanasamy to prove majority by ordering a floor test on February 22.The resignation of two MLAs' comes on a day when the ruling party members are slated to meet under the CM to discuss the future course of action, though similar discussions on February 18 yielded no results.\n",
      "The Congress government's strength in the Puducherry legislative assembly has fallen to 12\n",
      "\n",
      "Highlights Congress government's strength in Puducherry assembly has fallen\n",
      "\n",
      "The rival NR Congress-led alliance has 14 MLAs now\n",
      "\n",
      "Lieutenant Governor Tamilisai Soundararajan called floor test on Monday\n",
      "\n",
      "Two more MLAs - one from the Congress and the other from its partner DMK - have resigned in Puducherry a day before a test of strength after the ruling party no longer has a majority. Four-time Congress MLA Lakshminarayanan while putting in his papers said he is upset over not getting \"recognition\" in the party. He said he will leave the party too. The DMK MLA who resigned on Sunday, Venkatesan, has not given a statement yet.\n",
      "\n",
      "With the two resignations, the Congress government's strength in the Puducherry legislative assembly has fallen to 12 out of a total 26. The rival NR Congress-led alliance has 14 MLAs now.\n",
      "\n",
      "\"I wasn't made a minister even though I am a senior leader. The ruling Congress has been reduced to a minority and I can't be fully blamed for the crisis,\" Lakshminarayanan told NDTV, adding the regional party NR Congress and the BJP have approached him. Sources close to him say he wasn't even made party chief when Namassivayam, the Union Territory's Congress chief, resigned recently and switched to the BJP, nor was he made the Speaker earlier.\n",
      "\n",
      "\"I will make the next move after consulting my supporters,\" Lakshminarayanan said.\n",
      "\n",
      "Lieutenant Governor Tamilisai Soundararajan called the floor test on Monday citing the opposition's stand that the ruling party no longer has a majority.\n",
      "\n",
      "If both the government and the opposition fall short of numbers, Puducherry is likely headed for President's rule just three months before elections.\n",
      "\n",
      "Chief Minister V Narayanasamy has accused the opposition BJP of trying to topple his government. He alleged it has been the \"practice and design\" of the government led by Prime Minister Narendra Modi to disturb Congress governments in states like Goa, Manipur, Karnataka, Madhya Pradesh, Arunachal Pradesh and now in Puducherry. \"We have decided we will disclose our strategy on the floor of the assembly,\" the Chief Minister said today.\n",
      "\n",
      "Ms Soundararajan took charge as Lieutenant Governor after Kiran Bedi's sudden removal on Tuesday. The new Lieutenant Governor had said a floor test was needed to confirm whether the Congress government still enjoys a majority, with letters from opposition parties suggesting otherwise. The vote has to be completed by 5 pm on Monday.\n",
      "\n",
      "Four outcomes are being seen as likely in Puducherry. The government would remain intact if it passes the test of strength - the Chief Minister claims the resignation of two MLAs is yet to be accepted. The Chief Minister may dissolve the assembly and call for election. Or the government would fall and the Lieutenant Governor would ask the NR Congress to form government with only three months to go for election. In the final outcome, the Lieutenant Governor could bring President's rule.\n"
     ]
    }
   ],
   "source": [
    "#pip install newspaper3k\n",
    "\n",
    "from newspaper import fulltext\n",
    "import requests\n",
    "article_url1=\"https://timesofindia.indiatimes.com/india/one-more-congress-mla-quits-in-puducherry-govts-strength-drops-to-13/articleshow/81136467.cms\"\n",
    "article1 = fulltext(requests.get(article_url1).text)\n",
    "print(article1)\n",
    "article_url2=\"https://www.ndtv.com/india-news/another-congress-mla-quits-ahead-of-floor-test-in-puducherry-government-now-has-13-legislators-out-of-27-2375350\"\n",
    "article2 = fulltext(requests.get(article_url2).text)\n",
    "print(article2)"
   ]
  },
  {
   "cell_type": "code",
   "execution_count": null,
   "metadata": {},
   "outputs": [],
   "source": []
  }
 ]
}